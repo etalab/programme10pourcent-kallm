{
 "cells": [
  {
   "cell_type": "code",
   "execution_count": null,
   "id": "5bad2e2e-d057-4037-9881-f1b12ceedfb6",
   "metadata": {},
   "outputs": [],
   "source": [
    "from glob import glob\n",
    "import pandas as pd"
   ]
  },
  {
   "cell_type": "code",
   "execution_count": null,
   "id": "589323cf-5e6a-4a67-bde9-9a36fc030573",
   "metadata": {},
   "outputs": [],
   "source": [
    "THEMATIQUES={\n",
    "    \"accord_methode_penibilite\":\"Accords de méthode (pénibilité)\",\n",
    "\"accord_methode_pse\":\"Accords de méthode (PSE)\",\n",
    "\"amenagement_temps_travail\":\"Aménagement du temps de travail (modulation, annualisation, cycles)\",\n",
    "\"autres\":\"Autre, précisez\",\n",
    "\"autres_condition_travail\":\"Autres dispositions de conditions de travail (CHSCT, médecine du travail, politique générale de prévention)\",\n",
    "\"autres_dispositions_duree\":\"Autres dispositions durée et aménagement du temps de travail \",\n",
    "\"autres_dispositions_egalite\":\"Autres dispositions Egalité professionnelle\",\n",
    "\"autres_dispositions_emploi\":\"Autres dispositions emploi\",\n",
    "\"calendrier_negociation\":\"Calendrier des négociations\",\n",
    "\"classifications\":\"Classifications\",\n",
    "\"commision_paritaire\":\"Commissions paritaires\",\n",
    "\"cet\":\"Compte épargne temps\",\n",
    "\"couverture_complementaire\":\"Couverture complémentaire santé - maladie\",\n",
    "\"don_jour\":\"Dispositifs don de jour et jour de solidarité\",\n",
    "\"distribution_actions_gratuites\":\"Distribution d'actions gratuites\",\n",
    "\"droit_deconnexion\":\"Droit à la déconnexion et outils numériques\",\n",
    "\"droit_syndical\":\"Droit syndical, IRP, expression des salariés\",\n",
    "\"duree_collective_temps_travail\":\"Durée collective du temps de travail\",\n",
    "\"egalite_salariale\":\"Egalité salariale F/H\",\n",
    "\"election_pro\":\"Elections professionnelles, prorogations de mandat et vote électronique\",\n",
    "\"evolution_prime\":\"Evolution des primes\",\n",
    "\"evolution_salariale\":\"Evolution des salaires (augmentation, gel, diminution)\",\n",
    "\"fin_conflit\":\"Fin de conflit\",\n",
    "\"conges\":\"Fixation des congés (jours fériés, ponts, RTT)\",\n",
    "\"forfait\":\"Forfaits (en heures, en jours)\",\n",
    "\"formation_pro\":\"Formation professionnelle\",\n",
    "\"gpec\":\"GPEC\",\n",
    "\"heures_supp\":\"Heures supplémentaires (contingent, majoration)\",\n",
    "\"indemnites\":\"Indemnités (dont kilométrique)\",\n",
    "\"interessement\":\"Intéressement\",\n",
    "\"mesure_age\":\"Mesures d'âge (seniors, contrat de génération...)\",\n",
    "\"mobilite\":\"Mobilité (géographique, professionnelle - promotions)\",\n",
    "\"diversite\":\"Non discrimination - Diversité\",\n",
    "\"participation\":\"Participation\",\n",
    "\"pee_peg\":\"PEE ou PEG\",\n",
    "\"pei\":\"PEI\",\n",
    "\"penibilite\":\"Pénibilité du travail (1% pénibilité, prévention, compensation/réparation)\",\n",
    "\"perco_percoi\":\"PERCO et PERCOI\",\n",
    "\"performance_collecte\":\"Performance collective (accord de compétitivité)\",\n",
    "\"prevoyance_collective\":\"Prévoyance collective, autre que santé maladie\",\n",
    "\"prime_partage_profit\":\"Prime de partage des profits\",\n",
    "\"qvt\":\"QVT, conciliation vie personnelle/vie professionnelle\",\n",
    "\"reprise_des_donnees\":\"Reprise des données\",\n",
    "\"retraite_complementaire\":\"Retraite complémentaire - supplémentaire\",\n",
    "\"rupture_conventionnelle_collective\":\"Rupture conventionnelle collective\",\n",
    "\"stress_rps\":\"Stress, risques psycho-sociaux\",\n",
    "\"supplement_participation\":\"Supplément de participation\",\n",
    "\"supplement_interessement\":\"Supplément d'intéressement\",\n",
    "\"systeme_prime\":\"Système de prime (autre qu'évolution)\",\n",
    "\"système_de_remuneration\":\"Système de rémunération (autres qu'évolution)\",\n",
    "\"teletravail\":\"Télétravail\",\n",
    "\"travail_temps_partiel\":\"Travail à temps partiel\",\n",
    "\"travail_nuit\":\"Travail de nuit\",\n",
    "\"travail_dimanche\":\"Travail du dimanche\",\n",
    "\"travailleurs_handicapes\":\"Travailleurs handicapés\"}"
   ]
  },
  {
   "cell_type": "code",
   "execution_count": null,
   "id": "9ec067f2-906d-42ab-839f-c4732b3b4e15",
   "metadata": {},
   "outputs": [],
   "source": [
    "list_of_df=[]\n",
    "for file in glob(\"results/*\"):\n",
    "    with open(file,\"r\") as f:\n",
    "        lines=f.readlines()\n",
    "    lines=[line for line in lines if \":\" in line and line.split(\" : \")[0] in set(THEMATIQUES.keys())]\n",
    "    d = dict()\n",
    "    for line in lines:\n",
    "        cle, valeur = line.split(\" : \")[0], line.split(\" : \")[1]\n",
    "        d[cle]=1 if valeur.lower().startswith(\"oui\") else 0\n",
    "    list_of_df.append(pd.DataFrame(d,index=[file.split(\"/\")[1].split(\".\")[0]]))"
   ]
  },
  {
   "cell_type": "code",
   "execution_count": null,
   "id": "fcdee511-3374-4dde-a115-dc7d8945f703",
   "metadata": {},
   "outputs": [],
   "source": [
    "df_results=pd.concat(list_of_df)"
   ]
  },
  {
   "cell_type": "code",
   "execution_count": null,
   "id": "0c15ecfc-a27e-45cc-901c-c329706de9cd",
   "metadata": {},
   "outputs": [],
   "source": [
    "df_sample=pd.read_parquet(\"./10p_accords_publics_et_thematiques_240815_sample_of_1000.parquet\")"
   ]
  },
  {
   "cell_type": "code",
   "execution_count": null,
   "id": "bd6be6b8-39b0-41b3-8c82-0aea398d61db",
   "metadata": {},
   "outputs": [],
   "source": [
    "import numpy as np\n",
    "from sklearn.metrics import confusion_matrix\n",
    "from sklearn.metrics import accuracy_score, precision_score, recall_score, f1_score, classification_report\n",
    "\n",
    "for (k,v) in THEMATIQUES.items():\n",
    "    df=pd.DataFrame(df_sample[k].astype(int)).merge(df_results[k],how=\"inner\",left_index=True,right_index=True,suffixes=[\"_expected\",\"_predicted\"])\n",
    "    y_true, y_pred=df[f\"{k}_expected\"], df[f\"{k}_predicted\"]\n",
    "    cm = confusion_matrix(y_true, y_pred)\n",
    "    print(k)\n",
    "    print(cm)\n",
    "\n",
    "    accuracy = accuracy_score(y_true, y_pred)\n",
    "    precision = precision_score(y_true, y_pred, average='macro')\n",
    "    recall = recall_score(y_true, y_pred, average='macro')\n",
    "    f1 = f1_score(y_true, y_pred, average='macro')\n",
    "    report = classification_report(y_true, y_pred)\n",
    "    \n",
    "    print(f'Accuracy: {accuracy}')\n",
    "    print(f'Precision (macro): {precision}')\n",
    "    print(f'Recall (macro): {recall}')\n",
    "    print(f'F1 Score (macro): {f1}')\n",
    "    print(\"-\"*10)\n",
    "    print('Classification Report:')\n",
    "    print(report)\n"
   ]
  }
 ],
 "metadata": {
  "kernelspec": {
   "display_name": "Python 3 (ipykernel)",
   "language": "python",
   "name": "python3"
  },
  "language_info": {
   "codemirror_mode": {
    "name": "ipython",
    "version": 3
   },
   "file_extension": ".py",
   "mimetype": "text/x-python",
   "name": "python",
   "nbconvert_exporter": "python",
   "pygments_lexer": "ipython3",
   "version": "3.12.4"
  }
 },
 "nbformat": 4,
 "nbformat_minor": 5
}
