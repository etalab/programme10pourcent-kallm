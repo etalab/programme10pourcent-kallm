{
 "cells": [
  {
   "cell_type": "markdown",
   "id": "0b950f25-fb4b-4728-a471-a222473f3956",
   "metadata": {},
   "source": [
    "# Notebook exemple"
   ]
  },
  {
   "cell_type": "markdown",
   "id": "aca9942c-c103-4700-8342-1c30ea3639fd",
   "metadata": {},
   "source": [
    "## 1 - Imports et données"
   ]
  },
  {
   "cell_type": "code",
   "execution_count": null,
   "id": "e32a6717-2288-45ba-8a0e-5ed830342c19",
   "metadata": {},
   "outputs": [],
   "source": [
    "!sh ./init-env-download.sh"
   ]
  },
  {
   "cell_type": "markdown",
   "id": "28aa9356-8f25-4bc2-9730-8eb66d0b7ad3",
   "metadata": {},
   "source": [
    "* run  : ollama serve\n",
    "* then : ollama run llama3.1\n",
    "* or mistral-large or any models"
   ]
  },
  {
   "cell_type": "code",
   "execution_count": null,
   "id": "3f56c5f2-67c2-4727-8781-d251bc074785",
   "metadata": {},
   "outputs": [],
   "source": [
    "print(\"Avez-vous bien lancer ollama serve et ollama run ? :) \")"
   ]
  },
  {
   "cell_type": "code",
   "execution_count": null,
   "id": "59478918-fa62-4717-8fcf-523e656bc937",
   "metadata": {},
   "outputs": [],
   "source": [
    "import json\n",
    "import numpy as np\n",
    "import pandas as pd\n",
    "import requests\n",
    "\n",
    "from langchain.chains import StuffDocumentsChain, RetrievalQA, LLMChain, create_retrieval_chain\n",
    "from langchain.chains.combine_documents import create_stuff_documents_chain\n",
    "from langchain.document_loaders import TextLoader\n",
    "from langchain.embeddings import OpenAIEmbeddings, OllamaEmbeddings\n",
    "from langchain.llms import Ollama, BaseLLM\n",
    "from langchain.schema import Document, Generation, LLMResult\n",
    "from langchain.vectorstores import Chroma\n",
    "from langchain_chroma import Chroma\n",
    "from langchain_community.llms import OpenAI\n",
    "from langchain_core.prompts import ChatPromptTemplate\n",
    "from langchain_huggingface import HuggingFaceEmbeddings\n",
    "from langchain_text_splitters import CharacterTextSplitter\n",
    "from pathlib import Path\n",
    "from tqdm import tqdm\n",
    "from glob import glob"
   ]
  },
  {
   "cell_type": "code",
   "execution_count": null,
   "id": "b96b8f7a-d99e-4396-8e1c-e97698214ded",
   "metadata": {},
   "outputs": [],
   "source": [
    "df_sample=pd.read_parquet(\"./10p_accords_publics_et_thematiques_240815_sample_of_1000.parquet\")"
   ]
  },
  {
   "cell_type": "code",
   "execution_count": null,
   "id": "38ab603d-9316-4b65-9d0d-2a381d21c8e0",
   "metadata": {},
   "outputs": [],
   "source": [
    "df_sample=df_sample[:10]"
   ]
  },
  {
   "cell_type": "markdown",
   "id": "2e312354-8a8e-4113-aa60-df82ac91eba2",
   "metadata": {},
   "source": [
    "## 2 - Vectorisation des textes"
   ]
  },
  {
   "cell_type": "code",
   "execution_count": null,
   "id": "82fbef32-887d-4b72-8461-f1bbfe99b4bc",
   "metadata": {},
   "outputs": [],
   "source": [
    "text_splitter = CharacterTextSplitter(\n",
    "    separator=\"\\n\\n\",\n",
    "    chunk_size=3000,\n",
    "    chunk_overlap=200,\n",
    "    length_function=len,\n",
    "    is_separator_regex=False,\n",
    ")\n",
    "\n",
    "model_kwargs = {'device': 'cuda'}\n",
    "embedder = HuggingFaceEmbeddings(model_name=\"BAAI/bge-m3\", model_kwargs=model_kwargs,show_progress=False)"
   ]
  },
  {
   "cell_type": "code",
   "execution_count": null,
   "id": "d385d71e-2856-4d96-a19c-84c0a2737234",
   "metadata": {},
   "outputs": [],
   "source": [
    "vector_store = Chroma(embedding_function=embedder, persist_directory=\"./chroma_db\")\n",
    "for index, row in tqdm(df_sample.iterrows(), total=len(df_sample)):\n",
    "    text=df_sample.texte[index]\n",
    "    texts = text_splitter.create_documents([text])\n",
    "    i=0\n",
    "    for t in texts:\n",
    "        t.metadata[\"id\"]=f\"{index}_{i}\"\n",
    "        t.metadata[\"index\"]=f\"{index}\"\n",
    "        vector_store.add_documents([t])\n",
    "        i+=1"
   ]
  },
  {
   "cell_type": "markdown",
   "id": "4f8fbc12-6c86-44e1-90d1-5bce65eff803",
   "metadata": {},
   "source": [
    "## 3 - Inférence avec Ollama"
   ]
  },
  {
   "cell_type": "code",
   "execution_count": null,
   "id": "ccbd71db-f186-4c6e-88a7-e957cbad362e",
   "metadata": {},
   "outputs": [],
   "source": [
    "#MODEL=\"mistral-large\"\n",
    "MODEL=\"llama3.1\""
   ]
  },
  {
   "cell_type": "code",
   "execution_count": null,
   "id": "192d4319-4624-4a03-b8b3-75a8202324bd",
   "metadata": {},
   "outputs": [],
   "source": [
    "class LocalOllamaLLM(BaseLLM):\n",
    "    api_url : str\n",
    "    def _generate(self, prompt, stop):\n",
    "        response = requests.post(f\"{self.api_url}/api/generate\", json={\"model\": MODEL , \"prompt\": str(prompt) })\n",
    "        response.raise_for_status()\n",
    "        response_text=''.join([json.loads(line)['response'] for line in response.text.splitlines()])\n",
    "        generations=[]\n",
    "        generations.append([Generation(text=response_text)])\n",
    "        return LLMResult(generations=generations)\n",
    "\n",
    "\n",
    "    def _llm_type(self):\n",
    "        return \"local\"  "
   ]
  },
  {
   "cell_type": "code",
   "execution_count": null,
   "id": "3288b0de-500e-4f51-bd5e-91d7dad33abf",
   "metadata": {},
   "outputs": [],
   "source": [
    "llm = LocalOllamaLLM(api_url=\"http://127.0.0.1:11434\")\n",
    "\n",
    "system_prompt = (\n",
    "    \" Répondez à la question posée \"\n",
    "    \" Utilisez le contexte (sélection des meilleurs paragraphes liés à la question) donné pour répondre à la question \"\n",
    "    \" Si la réponse ne se trouve pas dans le contexte, répondez par 'Non'\"\n",
    "    \" Contexte : {context}  \"\n",
    ")\n",
    "\n",
    "prompt = ChatPromptTemplate.from_messages(\n",
    "    [\n",
    "        (\"system\", system_prompt),\n",
    "        (\"human\", \"{input}\"),\n",
    "    ]\n",
    ")\n",
    "question_answer_chain = create_stuff_documents_chain(llm, prompt)"
   ]
  },
  {
   "cell_type": "code",
   "execution_count": null,
   "id": "84d98daa-ad9b-461b-bda0-15f933eff746",
   "metadata": {},
   "outputs": [],
   "source": [
    "def search_and_invoke_llm(vector_store,index,query,k=5):\n",
    "    if k==0:\n",
    "        print(f\"bug with {index}\")\n",
    "        return None\n",
    "    else:\n",
    "        pass\n",
    "    try:\n",
    "        retriever=vector_store.as_retriever(\n",
    "        search_kwargs={\n",
    "                \"k\": k, \n",
    "                \"filter\": {'index': index}\n",
    "            }\n",
    "        )\n",
    "        chain = create_retrieval_chain(retriever, question_answer_chain)\n",
    "        result=chain.invoke({\"input\": query})\n",
    "        return result\n",
    "    except:\n",
    "        search_and_invoke_llm(vector_store,index,query,k=k-1)\n",
    "    return None"
   ]
  },
  {
   "cell_type": "code",
   "execution_count": null,
   "id": "a5595cc8-c63c-4fb6-8b31-5eda590413b9",
   "metadata": {},
   "outputs": [],
   "source": [
    "THEMATIQUES={\n",
    "    \"accord_methode_penibilite\":\"Accords de méthode (pénibilité)\",\n",
    "\"accord_methode_pse\":\"Accords de méthode (PSE)\",\n",
    "\"amenagement_temps_travail\":\"Aménagement du temps de travail (modulation, annualisation, cycles)\",\n",
    "\"autres\":\"Autre, précisez\",\n",
    "\"autres_condition_travail\":\"Autres dispositions de conditions de travail (CHSCT, médecine du travail, politique générale de prévention)\",\n",
    "\"autres_dispositions_duree\":\"Autres dispositions durée et aménagement du temps de travail \",\n",
    "\"autres_dispositions_egalite\":\"Autres dispositions Egalité professionnelle\",\n",
    "\"autres_dispositions_emploi\":\"Autres dispositions emploi\",\n",
    "\"calendrier_negociation\":\"Calendrier des négociations\",\n",
    "\"classifications\":\"Classifications\",\n",
    "\"commision_paritaire\":\"Commissions paritaires\",\n",
    "\"cet\":\"Compte épargne temps\",\n",
    "\"couverture_complementaire\":\"Couverture complémentaire santé - maladie\",\n",
    "\"don_jour\":\"Dispositifs don de jour et jour de solidarité\",\n",
    "\"distribution_actions_gratuites\":\"Distribution d'actions gratuites\",\n",
    "\"droit_deconnexion\":\"Droit à la déconnexion et outils numériques\",\n",
    "\"droit_syndical\":\"Droit syndical, IRP, expression des salariés\",\n",
    "\"duree_collective_temps_travail\":\"Durée collective du temps de travail\",\n",
    "\"egalite_salariale\":\"Egalité salariale F/H\",\n",
    "\"election_pro\":\"Elections professionnelles, prorogations de mandat et vote électronique\",\n",
    "\"evolution_prime\":\"Evolution des primes\",\n",
    "\"evolution_salariale\":\"Evolution des salaires (augmentation, gel, diminution)\",\n",
    "\"fin_conflit\":\"Fin de conflit\",\n",
    "\"conges\":\"Fixation des congés (jours fériés, ponts, RTT)\",\n",
    "\"forfait\":\"Forfaits (en heures, en jours)\",\n",
    "\"formation_pro\":\"Formation professionnelle\",\n",
    "\"gpec\":\"GPEC\",\n",
    "\"heures_supp\":\"Heures supplémentaires (contingent, majoration)\",\n",
    "\"indemnites\":\"Indemnités (dont kilométrique)\",\n",
    "\"interessement\":\"Intéressement\",\n",
    "\"mesure_age\":\"Mesures d'âge (seniors, contrat de génération...)\",\n",
    "\"mobilite\":\"Mobilité (géographique, professionnelle - promotions)\",\n",
    "\"diversite\":\"Non discrimination - Diversité\",\n",
    "\"participation\":\"Participation\",\n",
    "\"pee_peg\":\"PEE ou PEG\",\n",
    "\"pei\":\"PEI\",\n",
    "\"penibilite\":\"Pénibilité du travail (1% pénibilité, prévention, compensation/réparation)\",\n",
    "\"perco_percoi\":\"PERCO et PERCOI\",\n",
    "\"performance_collecte\":\"Performance collective (accord de compétitivité)\",\n",
    "\"prevoyance_collective\":\"Prévoyance collective, autre que santé maladie\",\n",
    "\"prime_partage_profit\":\"Prime de partage des profits\",\n",
    "\"qvt\":\"QVT, conciliation vie personnelle/vie professionnelle\",\n",
    "\"reprise_des_donnees\":\"Reprise des données\",\n",
    "\"retraite_complementaire\":\"Retraite complémentaire - supplémentaire\",\n",
    "\"rupture_conventionnelle_collective\":\"Rupture conventionnelle collective\",\n",
    "\"stress_rps\":\"Stress, risques psycho-sociaux\",\n",
    "\"supplement_participation\":\"Supplément de participation\",\n",
    "\"supplement_interessement\":\"Supplément d'intéressement\",\n",
    "\"systeme_prime\":\"Système de prime (autre qu'évolution)\",\n",
    "\"système_de_remuneration\":\"Système de rémunération (autres qu'évolution)\",\n",
    "\"teletravail\":\"Télétravail\",\n",
    "\"travail_temps_partiel\":\"Travail à temps partiel\",\n",
    "\"travail_nuit\":\"Travail de nuit\",\n",
    "\"travail_dimanche\":\"Travail du dimanche\",\n",
    "\"travailleurs_handicapes\":\"Travailleurs handicapés\"}"
   ]
  },
  {
   "cell_type": "code",
   "execution_count": null,
   "id": "62dff35e-60cd-41a6-9a10-360fe5385a63",
   "metadata": {},
   "outputs": [],
   "source": [
    "already_done={el.split(\"/\")[1].split(\".\")[0] for el in glob(\"results/*.answer\")}\n",
    "new_dir = Path('results').mkdir(exist_ok=True)\n",
    "\n",
    "list_of_df=[]\n",
    "for index, row in df_sample.iterrows():\n",
    "    dict_answer=dict()\n",
    "    answer=\"\"\n",
    "    if index not in already_done:\n",
    "        for (k,v) in THEMATIQUES.items():\n",
    "            Q0=f\"Oui ou non : est-ce qu'il y a un article sur : {v}?\"\n",
    "            if ans:=search_and_invoke_llm(vector_store,index,Q0,k=2):\n",
    "                answer_txt=ans['answer']\n",
    "                reponse=0\n",
    "                if answer_txt.lower().startswith(\"oui\") :\n",
    "                    reponse=1\n",
    "                dict_answer[k]=reponse\n",
    "                answer_k = f\"{k} : {answer_txt}\"\n",
    "                answer += answer_k\n",
    "            answer += \"\\n-----\\n\"\n",
    "            \n",
    "        if answer:\n",
    "            with open(f\"results/{index}.answer\",\"w\") as f:\n",
    "                f.write(answer)\n",
    "        list_of_df.append(pd.DataFrame(dict_answer, index=[index]))"
   ]
  },
  {
   "cell_type": "code",
   "execution_count": null,
   "id": "8a55f611-9756-4f8a-ad07-8a4537127b03",
   "metadata": {},
   "outputs": [],
   "source": [
    "df_results=pd.concat(list_of_df)"
   ]
  },
  {
   "cell_type": "markdown",
   "id": "38187f05-2fcf-4cf6-ad6f-9d3956931511",
   "metadata": {},
   "source": [
    "## Eval"
   ]
  },
  {
   "cell_type": "code",
   "execution_count": null,
   "id": "d92bf80e-ef58-4a4d-b049-49e9e35b692a",
   "metadata": {},
   "outputs": [],
   "source": [
    "import numpy as np\n",
    "from sklearn.metrics import confusion_matrix\n",
    "from sklearn.metrics import accuracy_score, precision_score, recall_score, f1_score, classification_report"
   ]
  },
  {
   "cell_type": "code",
   "execution_count": null,
   "id": "b87d2da4-7913-4616-b049-7245f6b6e211",
   "metadata": {},
   "outputs": [],
   "source": [
    "for (k,v) in THEMATIQUES.items():\n",
    "    df=pd.DataFrame(df_sample[k].astype(int)).merge(df_results[k],how=\"inner\",left_index=True,right_index=True,suffixes=[\"_expected\",\"_predicted\"])\n",
    "    y_true, y_pred=df[f\"{k}_expected\"], df[f\"{k}_predicted\"]\n",
    "    cm = confusion_matrix(y_true, y_pred)\n",
    "    print(k)\n",
    "    print(cm)\n",
    "\n",
    "    accuracy = accuracy_score(y_true, y_pred)\n",
    "    precision = precision_score(y_true, y_pred, average='macro')\n",
    "    recall = recall_score(y_true, y_pred, average='macro')\n",
    "    f1 = f1_score(y_true, y_pred, average='macro')\n",
    "    report = classification_report(y_true, y_pred)\n",
    "    \n",
    "    print(f'Accuracy: {accuracy}')\n",
    "    print(f'Precision (macro): {precision}')\n",
    "    print(f'Recall (macro): {recall}')\n",
    "    print(f'F1 Score (macro): {f1}')\n",
    "    print(\"-\"*10)\n",
    "    print('Classification Report:')\n",
    "    print(report)"
   ]
  }
 ],
 "metadata": {
  "kernelspec": {
   "display_name": "Python 3 (ipykernel)",
   "language": "python",
   "name": "python3"
  },
  "language_info": {
   "codemirror_mode": {
    "name": "ipython",
    "version": 3
   },
   "file_extension": ".py",
   "mimetype": "text/x-python",
   "name": "python",
   "nbconvert_exporter": "python",
   "pygments_lexer": "ipython3",
   "version": "3.12.4"
  }
 },
 "nbformat": 4,
 "nbformat_minor": 5
}
